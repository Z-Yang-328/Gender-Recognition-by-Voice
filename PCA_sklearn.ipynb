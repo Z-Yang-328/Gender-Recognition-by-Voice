{
 "cells": [
  {
   "cell_type": "code",
   "execution_count": 1,
   "metadata": {
    "collapsed": true
   },
   "outputs": [],
   "source": [
    "import numpy as np\n",
    "import pandas as pd\n",
    "\n",
    "all_data = pd.read_csv('voice.csv')\n",
    "features = [feat for feat in all_data.columns if feat != 'label']\n",
    "output = 'label'\n",
    "all_data[output].replace(['male','female'], [1, 0], inplace = True)\n",
    "all_samples = all_data[features].values\n",
    "labels = all_data[output].values"
   ]
  },
  {
   "cell_type": "code",
   "execution_count": 8,
   "metadata": {
    "collapsed": false
   },
   "outputs": [
    {
     "name": "stdout",
     "output_type": "stream",
     "text": [
      "(3168, 10)\n"
     ]
    }
   ],
   "source": [
    "from sklearn.decomposition import PCA as sklearnPCA\n",
    "\n",
    "sklearn_pca = sklearnPCA(n_components = 10)\n",
    "sklearn_transf = sklearn_pca.fit_transform(all_samples)\n",
    "print(sklearn_transf.shape)\n"
   ]
  },
  {
   "cell_type": "code",
   "execution_count": 10,
   "metadata": {
    "collapsed": false
   },
   "outputs": [],
   "source": [
    "transformed = sklearn_transf.T\n",
    "#print(transformed.shape)\n",
    "assert transformed.shape == (10,3168), \"The matrix is not 10x3168 dimensional.\"\n",
    "#print(transformed)\n",
    "transformed = transformed.T"
   ]
  },
  {
   "cell_type": "code",
   "execution_count": 11,
   "metadata": {
    "collapsed": true
   },
   "outputs": [],
   "source": [
    "def nonlin(x, deriv = False):\n",
    "    if (deriv == True):\n",
    "       return x * (1 - x)\n",
    "    else:\n",
    "       return 1/(1 + np.exp(-x))"
   ]
  },
  {
   "cell_type": "code",
   "execution_count": 12,
   "metadata": {
    "collapsed": false
   },
   "outputs": [
    {
     "name": "stdout",
     "output_type": "stream",
     "text": [
      "2851\n",
      "316\n"
     ]
    }
   ],
   "source": [
    "#Split dataset into training dat and test data\n",
    "\n",
    "#all_data = pd.read_csv('voice.csv')\n",
    "features = [feat for feat in all_data.columns if feat != 'label']\n",
    "output = 'label'\n",
    "num_datapoints = len(transformed)\n",
    "\n",
    "#Training data is first 90% of male and female\n",
    "#Test data is las 10% of male and female\n",
    "\n",
    "test_male = int(1584 * 0.1)\n",
    "test_female = int((num_datapoints-1584) * 0.1)\n",
    "\n",
    "#all_data[output].replace(['male','female'], [1, 0], inplace = True)\n",
    "\n",
    "train_data_male = transformed[0:(1583-test_male)]\n",
    "train_data_female = transformed[1584:-test_female]\n",
    "test_data_male = transformed[(1583 - test_male):1583]\n",
    "test_data_female = transformed[-test_female:]\n",
    "\n",
    "train_data = np.concatenate((train_data_male, train_data_female), axis = 0)\n",
    "test_data = np.concatenate((test_data_male, test_data_female),axis = 0)\n",
    "\n",
    "train_labels_male = all_data[output].iloc[0:(1583 - test_male)].values\n",
    "train_labels_female = all_data[output].iloc[1584:-test_female].values\n",
    "test_labels_male = all_data[output].iloc[(1583 - test_male):1583].values \n",
    "test_labels_female = all_data[output].iloc[-test_female:].values\n",
    "\n",
    "train_labels = np.concatenate((train_labels_male, train_labels_female), axis = 0)\n",
    "test_labels = np.concatenate((test_labels_male, test_labels_female), axis = 0)\n",
    "\n",
    "print(len(train_data))\n",
    "print(len(test_data))"
   ]
  },
  {
   "cell_type": "code",
   "execution_count": 21,
   "metadata": {
    "collapsed": false
   },
   "outputs": [
    {
     "name": "stdout",
     "output_type": "stream",
     "text": [
      "[[ 1.]\n",
      " [ 1.]\n",
      " [ 1.]\n",
      " ..., \n",
      " [ 0.]\n",
      " [ 0.]\n",
      " [ 0.]]\n"
     ]
    }
   ],
   "source": [
    "#To ensure random number of every loop is the same\n",
    "np.random.seed(10)\n",
    "#Initialize weights\n",
    "syn0 = 2 * np.random.random((10,1)) - 1\n",
    "l0 = train_data\n",
    "#Keep updating weights\n",
    "for iter in range(100000):\n",
    "    #l0 = train_data\n",
    "    #Input(l0) with weights(syn0) \n",
    "    #Combined by sigmoid function\n",
    "    l1 = nonlin(np.dot(l0,syn0))\n",
    "    \n",
    "    #How different that l1 from exact labels\n",
    "    l1_error = train_labels.T - l1.T\n",
    "    \n",
    "    #l1_delta = l1_error.T * nonlin(l1, True)\n",
    "    #syn0 += np.dot(l0.T, l1_delta)\n",
    "    syn0 += np.dot(l0.T, l1_error.T)\n",
    "print(l1)"
   ]
  },
  {
   "cell_type": "code",
   "execution_count": 22,
   "metadata": {
    "collapsed": false
   },
   "outputs": [
    {
     "name": "stdout",
     "output_type": "stream",
     "text": [
      "predicted number of female 2658\n",
      "predicted number of male 193\n",
      "total number of train data: 2851\n"
     ]
    }
   ],
   "source": [
    "count_0 = 0\n",
    "count_1 = 0\n",
    "for i in l1:\n",
    "    if 0 in i:\n",
    "       count_0 += 1\n",
    "    else:\n",
    "       count_1 += 1\n",
    "print(\"predicted number of female\", count_0)\n",
    "print(\"predicted number of male\", count_1)\n",
    "print(\"total number of train data:\",count_0 + count_1)"
   ]
  },
  {
   "cell_type": "code",
   "execution_count": 23,
   "metadata": {
    "collapsed": false
   },
   "outputs": [
    {
     "name": "stdout",
     "output_type": "stream",
     "text": [
      "Number of correct prediction 1487\n",
      "Number of wrong prediction 1364\n"
     ]
    }
   ],
   "source": [
    "correct_predic = 0\n",
    "wrong_predic = 0\n",
    "for i in range(0,2851):\n",
    "    if train_labels[i] == l1[i]:\n",
    "       correct_predic += 1\n",
    "    else:\n",
    "       wrong_predic += 1\n",
    "    \n",
    "print(\"Number of correct prediction\", correct_predic)\n",
    "print(\"Number of wrong prediction\", wrong_predic)"
   ]
  },
  {
   "cell_type": "code",
   "execution_count": 24,
   "metadata": {
    "collapsed": false
   },
   "outputs": [
    {
     "name": "stdout",
     "output_type": "stream",
     "text": [
      "Correct rate is: \n",
      "0.5215713784636969\n"
     ]
    }
   ],
   "source": [
    "print(\"Correct rate is: \")\n",
    "print(correct_predic/(wrong_predic+correct_predic))"
   ]
  },
  {
   "cell_type": "code",
   "execution_count": 25,
   "metadata": {
    "collapsed": true
   },
   "outputs": [],
   "source": [
    "l0 = test_data\n",
    "   \n",
    "l1 = nonlin(np.dot(l0,syn0))"
   ]
  },
  {
   "cell_type": "code",
   "execution_count": 26,
   "metadata": {
    "collapsed": false
   },
   "outputs": [
    {
     "name": "stdout",
     "output_type": "stream",
     "text": [
      "predicted number of female 165\n",
      "predicted number of male 151\n",
      "total number of train data: 316\n"
     ]
    }
   ],
   "source": [
    "count_0 = 0\n",
    "count_1 = 0\n",
    "for i in l1:\n",
    "    if 0 in i:\n",
    "       count_0 += 1\n",
    "    else:\n",
    "       count_1 += 1\n",
    "print(\"predicted number of female\", count_0)\n",
    "print(\"predicted number of male\", count_1)\n",
    "print(\"total number of train data:\",count_0 + count_1)"
   ]
  },
  {
   "cell_type": "code",
   "execution_count": 27,
   "metadata": {
    "collapsed": false
   },
   "outputs": [
    {
     "name": "stdout",
     "output_type": "stream",
     "text": [
      "Number of correct prediction 249\n",
      "Number of wrong prediction 67\n"
     ]
    }
   ],
   "source": [
    "correct_predic = 0\n",
    "wrong_predic = 0\n",
    "for i in range(0,316):\n",
    "    if test_labels[i] == l1[i]:\n",
    "       correct_predic += 1\n",
    "    else:\n",
    "       wrong_predic += 1\n",
    "    \n",
    "print(\"Number of correct prediction\", correct_predic)\n",
    "print(\"Number of wrong prediction\", wrong_predic)"
   ]
  },
  {
   "cell_type": "code",
   "execution_count": 28,
   "metadata": {
    "collapsed": false
   },
   "outputs": [
    {
     "name": "stdout",
     "output_type": "stream",
     "text": [
      "Correct rate is:  0.7879746835443038\n"
     ]
    }
   ],
   "source": [
    "print(\"Correct rate is: \", correct_predic/(wrong_predic + correct_predic))"
   ]
  },
  {
   "cell_type": "code",
   "execution_count": null,
   "metadata": {
    "collapsed": true
   },
   "outputs": [],
   "source": []
  }
 ],
 "metadata": {
  "anaconda-cloud": {},
  "kernelspec": {
   "display_name": "Python [Root]",
   "language": "python",
   "name": "Python [Root]"
  },
  "language_info": {
   "codemirror_mode": {
    "name": "ipython",
    "version": 3
   },
   "file_extension": ".py",
   "mimetype": "text/x-python",
   "name": "python",
   "nbconvert_exporter": "python",
   "pygments_lexer": "ipython3",
   "version": "3.5.2"
  }
 },
 "nbformat": 4,
 "nbformat_minor": 0
}
