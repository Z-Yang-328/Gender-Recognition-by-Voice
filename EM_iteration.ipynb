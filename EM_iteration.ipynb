{
 "cells": [
  {
   "cell_type": "code",
   "execution_count": 1,
   "metadata": {
    "collapsed": false
   },
   "outputs": [
    {
     "name": "stderr",
     "output_type": "stream",
     "text": [
      "/home/yangzhibo5947/anaconda3/lib/python3.5/site-packages/sklearn/cross_validation.py:44: DeprecationWarning: This module was deprecated in version 0.18 in favor of the model_selection module into which all the refactored classes and functions are moved. Also note that the interface of the new CV iterators are different from that of this module. This module will be removed in 0.20.\n",
      "  \"This module will be removed in 0.20.\", DeprecationWarning)\n"
     ]
    }
   ],
   "source": [
    "import pandas as pd\n",
    "import numpy as np\n",
    "import math\n",
    "\n",
    "from sklearn.cross_validation import train_test_split"
   ]
  },
  {
   "cell_type": "code",
   "execution_count": 2,
   "metadata": {
    "collapsed": false
   },
   "outputs": [
    {
     "name": "stdout",
     "output_type": "stream",
     "text": [
      "2534\n",
      "634\n"
     ]
    }
   ],
   "source": [
    "all_data = pd.read_csv(\"voice.csv\")\n",
    "label = all_data.pop('label')\n",
    "\n",
    "all_data = all_data.values\n",
    "\n",
    "label.replace(['male','female'], [1, 0], inplace = True)\n",
    "label = label.values\n",
    "\n",
    "train_data, test_data, train_labels, test_labels = train_test_split(all_data, label, test_size = 0.2)\n",
    "\n",
    "train_data, test_data, train_labels, test_labels = np.array(train_data, dtype = 'float32'), np.array(test_data, dtype = 'float32'),np.array(train_labels, dtype = 'float32'),np.array(test_labels, dtype = 'float32')\n",
    "\n",
    "print(len(train_data))\n",
    "print(len(test_data))"
   ]
  },
  {
   "cell_type": "code",
   "execution_count": 3,
   "metadata": {
    "collapsed": false
   },
   "outputs": [
    {
     "name": "stderr",
     "output_type": "stream",
     "text": [
      "/home/yangzhibo5947/anaconda3/lib/python3.5/site-packages/numpy/core/numeric.py:190: VisibleDeprecationWarning: using a non-integer number instead of an integer will result in an error in the future\n",
      "  a = empty(shape, dtype, order)\n",
      "/home/yangzhibo5947/anaconda3/lib/python3.5/site-packages/ipykernel/__main__.py:2: VisibleDeprecationWarning: using a non-integer number instead of an integer will result in an error in the future\n",
      "  from ipykernel import kernelapp as app\n"
     ]
    }
   ],
   "source": [
    "label_1 = np.ones(len(train_labels)/2)\n",
    "label_2 = np.zeros(len(train_labels)/2)\n",
    "labels = np.concatenate((label_1,label_2), axis = 0)"
   ]
  },
  {
   "cell_type": "code",
   "execution_count": 16,
   "metadata": {
    "collapsed": false
   },
   "outputs": [],
   "source": [
    "iteration = 1000\n",
    "\n",
    "for iter in range(iteration):\n",
    "    D1 = np.zeros((1,20))\n",
    "    D2 = np.zeros((1,20))\n",
    "    for i in range(0,len(train_labels)):\n",
    "        if labels[i]==1:\n",
    "            D1 = np.vstack((D1, train_data[i,:].reshape(1,20)))\n",
    "        else:\n",
    "            D2 = np.vstack((D2, train_data[i,:].reshape(1,20)))\n",
    "\n",
    "    D1 = np.delete(D1,0,0)\n",
    "    D2 = np.delete(D2,0,0)\n",
    "    \n",
    "    sd1 = len(D1)\n",
    "    sd2 = len(D2)\n",
    "    mu1 = np.mean(D1, axis = 0)\n",
    "    mu2 = np.mean(D2, axis = 0)\n",
    "\n",
    "    dd1 = D1 - ((mu1) * np.ones((sd1,1)))\n",
    "    dd2 = D2 - ((mu2) * np.ones((sd2,1)))\n",
    "    \n",
    "    cov1 = (np.dot(dd1.T, dd1))/sd1 \n",
    "    cov2 = (np.dot(dd2.T, dd2))/sd2 \n",
    "    \n",
    "    \n",
    "    icov1 = np.linalg.pinv(cov1)\n",
    "    icov2 = np.linalg.pinv(cov2)\n",
    "\n",
    "\n",
    "    (sign1,logdet1) = np.linalg.slogdet(cov1)\n",
    "    (sign2,logdet2) = np.linalg.slogdet(cov2)\n",
    "    #print(sign1*np.exp(logdet1))\n",
    "    det1 = sign1 * np.exp(logdet1) + 0.00001\n",
    "    det2 = sign2 * np.exp(logdet2) + 0.00001\n",
    " \n",
    "    labels = np.zeros((len(train_labels),1))\n",
    "\n",
    "    for i in range(0, len(train_labels)):\n",
    "        train_mu1 = (train_data[i,:] - mu1).reshape(1,20)   \n",
    "        train_mu2 = (train_data[i,:] - mu2).reshape(1,20)\n",
    "    \n",
    "        likelihood1 = (1/(2*math.pi*math.sqrt(det1)))*np.dot(np.dot(-0.5*train_mu1, icov1),train_mu1.reshape(20,1))\n",
    "        likelihood2 = (1/(2*math.pi*math.sqrt(det2)))*np.dot(np.dot(-0.5*train_mu2, icov2),train_mu2.reshape(20,1))\n",
    "        #print(\"Likelihood1:\", likelihood1, \"Likelihood2: \", likelihood2)\n",
    "        if (likelihood1 * sd1) > (likelihood2 * sd2):\n",
    "           labels[i] = 1\n",
    "        else:\n",
    "           labels[i] = 0"
   ]
  },
  {
   "cell_type": "code",
   "execution_count": 17,
   "metadata": {
    "collapsed": false
   },
   "outputs": [
    {
     "name": "stdout",
     "output_type": "stream",
     "text": [
      "predicted number of female 1122\n",
      "predicted number of male 1412\n",
      "total number of train data: 2534\n"
     ]
    }
   ],
   "source": [
    "count_0 = 0\n",
    "count_1 = 0\n",
    "for i in range(0,len(train_labels)):\n",
    "    #if y_test[i] < 0.4:\n",
    "     if  (labels[i] == 0):\n",
    "       count_0 += 1\n",
    "     else:\n",
    "       count_1 += 1\n",
    "print(\"predicted number of female\", count_0)\n",
    "print(\"predicted number of male\", count_1)\n",
    "print(\"total number of train data:\",count_0 + count_1)"
   ]
  },
  {
   "cell_type": "code",
   "execution_count": 18,
   "metadata": {
    "collapsed": false
   },
   "outputs": [
    {
     "name": "stdout",
     "output_type": "stream",
     "text": [
      "Number of correct prediction 1879\n",
      "Number of wrong prediction 655\n"
     ]
    }
   ],
   "source": [
    "correct_predic = 0\n",
    "wrong_predic = 0\n",
    "for i in range(0,len(train_labels)):\n",
    "    if labels[i] == train_labels[i]:\n",
    "       correct_predic += 1\n",
    "    else:\n",
    "       wrong_predic += 1\n",
    "    \n",
    "print(\"Number of correct prediction\", correct_predic)\n",
    "print(\"Number of wrong prediction\", wrong_predic)"
   ]
  },
  {
   "cell_type": "code",
   "execution_count": 19,
   "metadata": {
    "collapsed": false,
    "scrolled": true
   },
   "outputs": [
    {
     "name": "stdout",
     "output_type": "stream",
     "text": [
      "Correct rate is:  0.7415153906866614\n"
     ]
    }
   ],
   "source": [
    "print(\"Correct rate is: \", correct_predic/(wrong_predic + correct_predic))"
   ]
  },
  {
   "cell_type": "code",
   "execution_count": 20,
   "metadata": {
    "collapsed": true
   },
   "outputs": [],
   "source": [
    "for i in range(0, len(test_labels)):\n",
    "    train_mu1 = (test_data[i,:] - mu1).reshape(1,20)   \n",
    "    train_mu2 = (test_data[i,:] - mu2).reshape(1,20)\n",
    "    \n",
    "    likelihood1 = (1/(2*math.pi*math.sqrt(det1)))*np.dot(np.dot(-0.5*train_mu1, icov1),train_mu1.reshape(20,1))\n",
    "    likelihood2 = (1/(2*math.pi*math.sqrt(det2)))*np.dot(np.dot(-0.5*train_mu2, icov2),train_mu2.reshape(20,1))\n",
    "    #print(\"Likelihood1:\", likelihood1, \"Likelihood2: \", likelihood2)\n",
    "    if (likelihood1 * sd1) > (likelihood2 * sd2):\n",
    "        labels[i] = 1\n",
    "    else:\n",
    "        labels[i] = 0"
   ]
  },
  {
   "cell_type": "code",
   "execution_count": 21,
   "metadata": {
    "collapsed": false
   },
   "outputs": [
    {
     "name": "stdout",
     "output_type": "stream",
     "text": [
      "predicted number of female 258\n",
      "predicted number of male 376\n",
      "total number of train data: 634\n"
     ]
    }
   ],
   "source": [
    "count_0 = 0\n",
    "count_1 = 0\n",
    "for i in range(0,len(test_labels)):\n",
    "    #if y_test[i] < 0.4:\n",
    "     if  (labels[i] == 0):\n",
    "       count_0 += 1\n",
    "     else:\n",
    "       count_1 += 1\n",
    "print(\"predicted number of female\", count_0)\n",
    "print(\"predicted number of male\", count_1)\n",
    "print(\"total number of train data:\",count_0 + count_1)"
   ]
  },
  {
   "cell_type": "code",
   "execution_count": 22,
   "metadata": {
    "collapsed": false
   },
   "outputs": [
    {
     "name": "stdout",
     "output_type": "stream",
     "text": [
      "Number of correct prediction 467\n",
      "Number of wrong prediction 167\n"
     ]
    }
   ],
   "source": [
    "correct_predic = 0\n",
    "wrong_predic = 0\n",
    "for i in range(0,len(test_labels)):\n",
    "    if labels[i] == test_labels[i]:\n",
    "       correct_predic += 1\n",
    "    else:\n",
    "       wrong_predic += 1\n",
    "    \n",
    "print(\"Number of correct prediction\", correct_predic)\n",
    "print(\"Number of wrong prediction\", wrong_predic)"
   ]
  },
  {
   "cell_type": "code",
   "execution_count": 23,
   "metadata": {
    "collapsed": false
   },
   "outputs": [
    {
     "name": "stdout",
     "output_type": "stream",
     "text": [
      "Correct rate is:  0.7365930599369085\n"
     ]
    }
   ],
   "source": [
    "print(\"Correct rate is: \", correct_predic/(wrong_predic + correct_predic))"
   ]
  },
  {
   "cell_type": "code",
   "execution_count": null,
   "metadata": {
    "collapsed": true
   },
   "outputs": [],
   "source": []
  }
 ],
 "metadata": {
  "anaconda-cloud": {},
  "kernelspec": {
   "display_name": "Python [Root]",
   "language": "python",
   "name": "Python [Root]"
  },
  "language_info": {
   "codemirror_mode": {
    "name": "ipython",
    "version": 3
   },
   "file_extension": ".py",
   "mimetype": "text/x-python",
   "name": "python",
   "nbconvert_exporter": "python",
   "pygments_lexer": "ipython3",
   "version": "3.5.2"
  }
 },
 "nbformat": 4,
 "nbformat_minor": 0
}
