{
 "cells": [
  {
   "cell_type": "code",
   "execution_count": 2,
   "metadata": {
    "collapsed": false
   },
   "outputs": [
    {
     "name": "stderr",
     "output_type": "stream",
     "text": [
      "/home/yangzhibo5947/anaconda3/lib/python3.5/site-packages/sklearn/cross_validation.py:44: DeprecationWarning: This module was deprecated in version 0.18 in favor of the model_selection module into which all the refactored classes and functions are moved. Also note that the interface of the new CV iterators are different from that of this module. This module will be removed in 0.20.\n",
      "  \"This module will be removed in 0.20.\", DeprecationWarning)\n"
     ]
    }
   ],
   "source": [
    "import numpy as np\n",
    "import pandas as pd\n",
    "from sklearn.cross_validation import train_test_split"
   ]
  },
  {
   "cell_type": "code",
   "execution_count": 21,
   "metadata": {
    "collapsed": true
   },
   "outputs": [],
   "source": [
    "#Sigmoid function\n",
    "\n",
    "def nonlin(x, deriv = False):\n",
    "    if (deriv == True):\n",
    "       return x * (1 - x)\n",
    "    else:\n",
    "       return 1/(1 + np.exp(-x))"
   ]
  },
  {
   "cell_type": "code",
   "execution_count": 22,
   "metadata": {
    "collapsed": false
   },
   "outputs": [
    {
     "name": "stdout",
     "output_type": "stream",
     "text": [
      "2534\n",
      "634\n"
     ]
    }
   ],
   "source": [
    "all_data = pd.read_csv('voice.csv')\n",
    "label = all_data.pop('label')\n",
    "\n",
    "all_data = all_data.values\n",
    "\n",
    "label.replace(['male','female'], [1, 0], inplace = True)\n",
    "label = label.values\n",
    "\n",
    "train_data, test_data, train_labels, test_labels = train_test_split(all_data, label, test_size = 0.2)\n",
    "\n",
    "train_data, test_data, train_labels, test_labels = np.array(train_data, dtype = 'float32'), np.array(test_data, dtype = 'float32'),np.array(train_labels, dtype = 'float32'),np.array(test_labels, dtype = 'float32')\n",
    "\n",
    "print(len(train_data))\n",
    "print(len(test_data))\n"
   ]
  },
  {
   "cell_type": "code",
   "execution_count": 44,
   "metadata": {
    "collapsed": false
   },
   "outputs": [
    {
     "name": "stdout",
     "output_type": "stream",
     "text": [
      "[[ 1.]\n",
      " [ 0.]\n",
      " [ 1.]\n",
      " ..., \n",
      " [ 0.]\n",
      " [ 0.]\n",
      " [ 0.]]\n"
     ]
    }
   ],
   "source": [
    "#To ensure random number of every loop is the same\n",
    "np.random.seed(1)\n",
    "#Initialize weights\n",
    "syn0 = 2 * np.random.random((20,1)) - 1\n",
    "\n",
    "l0 = train_data\n",
    "\n",
    "#Keep updating weights\n",
    "for iter in range(1000000):\n",
    "    #l0 = train_data\n",
    "    #Input(l0) with weights(syn0) \n",
    "    #Combined by sigmoid function\n",
    "    l1 = nonlin(np.dot(l0,syn0))\n",
    "    \n",
    "    #How different that l1 from exact labels\n",
    "    l1_error = train_labels.reshape(2534,1) - l1\n",
    "    \n",
    "    #l1_delta = l1_error.T * nonlin(l1, True)\n",
    "    #syn0 += np.dot(l0.T, l1_delta)\n",
    "    syn0 += np.dot(l0.T, l1_error)\n",
    "  \n",
    "print(l1)"
   ]
  },
  {
   "cell_type": "code",
   "execution_count": 45,
   "metadata": {
    "collapsed": false
   },
   "outputs": [
    {
     "name": "stdout",
     "output_type": "stream",
     "text": [
      "predicted number of female 1172\n",
      "predicted number of male 1362\n",
      "total number of train data: 2534\n"
     ]
    }
   ],
   "source": [
    "count_0 = 0\n",
    "count_1 = 0\n",
    "for i in range(len(l1)):\n",
    "    if l1[i] < 0.5:\n",
    "       l1[i] = 0\n",
    "       count_0 += 1\n",
    "    else:\n",
    "       l1[i] = 1\n",
    "       count_1 += 1\n",
    "print(\"predicted number of female\", count_0)\n",
    "print(\"predicted number of male\", count_1)\n",
    "print(\"total number of train data:\",count_0 + count_1)"
   ]
  },
  {
   "cell_type": "code",
   "execution_count": 46,
   "metadata": {
    "collapsed": false
   },
   "outputs": [
    {
     "name": "stdout",
     "output_type": "stream",
     "text": [
      "Number of correct prediction 2383\n",
      "Number of wrong prediction 151\n"
     ]
    }
   ],
   "source": [
    "correct_predic = 0\n",
    "wrong_predic = 0\n",
    "#Do not forget to change range when changing training-test ratio\n",
    "for i in range(0,2534):\n",
    "    if train_labels[i] == l1[i]:\n",
    "       correct_predic += 1\n",
    "    else:\n",
    "       wrong_predic += 1\n",
    "    \n",
    "print(\"Number of correct prediction\", correct_predic)\n",
    "print(\"Number of wrong prediction\", wrong_predic)"
   ]
  },
  {
   "cell_type": "code",
   "execution_count": 47,
   "metadata": {
    "collapsed": false
   },
   "outputs": [
    {
     "name": "stdout",
     "output_type": "stream",
     "text": [
      "Correct rate is: \n",
      "0.9404104183109708\n"
     ]
    }
   ],
   "source": [
    "print(\"Correct rate is: \")\n",
    "print(correct_predic/(wrong_predic+correct_predic))"
   ]
  },
  {
   "cell_type": "code",
   "execution_count": 48,
   "metadata": {
    "collapsed": false
   },
   "outputs": [],
   "source": [
    "#Test part\n",
    "\n",
    "l0 = test_data\n",
    "   \n",
    "l1 = nonlin(np.dot(l0,syn0))   \n",
    "    "
   ]
  },
  {
   "cell_type": "code",
   "execution_count": 49,
   "metadata": {
    "collapsed": false
   },
   "outputs": [
    {
     "name": "stdout",
     "output_type": "stream",
     "text": [
      "predicted number of female 358\n",
      "predicted number of male 276\n",
      "total number of train data: 634\n"
     ]
    }
   ],
   "source": [
    "count_0 = 0\n",
    "count_1 = 0\n",
    "for i in l1:\n",
    "    if 0 in i:\n",
    "       count_0 += 1\n",
    "    else:\n",
    "       count_1 += 1\n",
    "print(\"predicted number of female\", count_0)\n",
    "print(\"predicted number of male\", count_1)\n",
    "print(\"total number of train data:\",count_0 + count_1)"
   ]
  },
  {
   "cell_type": "code",
   "execution_count": 50,
   "metadata": {
    "collapsed": false
   },
   "outputs": [
    {
     "name": "stdout",
     "output_type": "stream",
     "text": [
      "Number of correct prediction 583\n",
      "Number of wrong prediction 51\n"
     ]
    }
   ],
   "source": [
    "correct_predic = 0\n",
    "wrong_predic = 0\n",
    "for i in range(0,634):\n",
    "    if test_labels[i] == l1[i]:\n",
    "       correct_predic += 1\n",
    "    else:\n",
    "       wrong_predic += 1\n",
    "    \n",
    "print(\"Number of correct prediction\", correct_predic)\n",
    "print(\"Number of wrong prediction\", wrong_predic)"
   ]
  },
  {
   "cell_type": "code",
   "execution_count": 51,
   "metadata": {
    "collapsed": false
   },
   "outputs": [
    {
     "name": "stdout",
     "output_type": "stream",
     "text": [
      "Correct rate is:  0.919558359621451\n"
     ]
    }
   ],
   "source": [
    "print(\"Correct rate is: \", correct_predic/(wrong_predic + correct_predic))"
   ]
  }
 ],
 "metadata": {
  "anaconda-cloud": {},
  "kernelspec": {
   "display_name": "Python [Root]",
   "language": "python",
   "name": "Python [Root]"
  },
  "language_info": {
   "codemirror_mode": {
    "name": "ipython",
    "version": 3
   },
   "file_extension": ".py",
   "mimetype": "text/x-python",
   "name": "python",
   "nbconvert_exporter": "python",
   "pygments_lexer": "ipython3",
   "version": "3.5.2"
  }
 },
 "nbformat": 4,
 "nbformat_minor": 0
}
