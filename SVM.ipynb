{
 "cells": [
  {
   "cell_type": "code",
   "execution_count": 5,
   "metadata": {
    "collapsed": false
   },
   "outputs": [
    {
     "name": "stderr",
     "output_type": "stream",
     "text": [
      "/home/yangzhibo5947/anaconda3/lib/python3.5/site-packages/sklearn/cross_validation.py:44: DeprecationWarning: This module was deprecated in version 0.18 in favor of the model_selection module into which all the refactored classes and functions are moved. Also note that the interface of the new CV iterators are different from that of this module. This module will be removed in 0.20.\n",
      "  \"This module will be removed in 0.20.\", DeprecationWarning)\n"
     ]
    }
   ],
   "source": [
    "from sklearn import svm\n",
    "from sklearn.cross_validation import train_test_split\n",
    "\n",
    "import numpy as np\n",
    "import pandas as pd"
   ]
  },
  {
   "cell_type": "code",
   "execution_count": 6,
   "metadata": {
    "collapsed": false
   },
   "outputs": [
    {
     "name": "stdout",
     "output_type": "stream",
     "text": [
      "2534\n",
      "634\n"
     ]
    }
   ],
   "source": [
    "all_data = pd.read_csv('voice.csv')\n",
    "label = all_data.pop('label')\n",
    "\n",
    "all_data = all_data.values\n",
    "\n",
    "label.replace(['male','female'], [1, 0], inplace = True)\n",
    "label = label.values\n",
    "\n",
    "train_data, test_data, train_labels, test_labels = train_test_split(all_data, label, test_size = 0.2)\n",
    "\n",
    "train_data, test_data, train_labels, test_labels = np.array(train_data, dtype = 'float32'), np.array(test_data, dtype = 'float32'),np.array(train_labels, dtype = 'float32'),np.array(test_labels, dtype = 'float32')\n",
    "\n",
    "print(len(train_data))\n",
    "print(len(test_data))"
   ]
  },
  {
   "cell_type": "code",
   "execution_count": 23,
   "metadata": {
    "collapsed": false
   },
   "outputs": [
    {
     "data": {
      "text/plain": [
       "LinearSVC(C=1.0, class_weight=None, dual=True, fit_intercept=True,\n",
       "     intercept_scaling=1, loss='squared_hinge', max_iter=1000,\n",
       "     multi_class='ovr', penalty='l2', random_state=None, tol=0.0001,\n",
       "     verbose=0)"
      ]
     },
     "execution_count": 23,
     "metadata": {},
     "output_type": "execute_result"
    }
   ],
   "source": [
    "clf = svm.LinearSVC()\n",
    "clf.fit(train_data, train_labels)"
   ]
  },
  {
   "cell_type": "code",
   "execution_count": 28,
   "metadata": {
    "collapsed": true
   },
   "outputs": [],
   "source": [
    "predict_labels_train = clf.predict(train_data)"
   ]
  },
  {
   "cell_type": "code",
   "execution_count": 29,
   "metadata": {
    "collapsed": false
   },
   "outputs": [
    {
     "name": "stdout",
     "output_type": "stream",
     "text": [
      "predicted number of female 1238\n",
      "predicted number of male 1296\n",
      "total number of train data: 2534\n"
     ]
    }
   ],
   "source": [
    "count_0 = 0\n",
    "count_1 = 0\n",
    "for i in range(0,2534):\n",
    "    if predict_labels_train[i] == 0:\n",
    "       count_0 += 1\n",
    "    else:\n",
    "       count_1 += 1\n",
    "print(\"predicted number of female\", count_0)\n",
    "print(\"predicted number of male\", count_1)\n",
    "print(\"total number of train data:\",count_0 + count_1)"
   ]
  },
  {
   "cell_type": "code",
   "execution_count": 30,
   "metadata": {
    "collapsed": false
   },
   "outputs": [
    {
     "name": "stdout",
     "output_type": "stream",
     "text": [
      "Number of correct prediction 2430\n",
      "Number of wrong prediction 104\n"
     ]
    }
   ],
   "source": [
    "correct_predic = 0\n",
    "wrong_predic = 0\n",
    "for i in range(0,2534):\n",
    "    if train_labels[i] == predict_labels_train[i]:\n",
    "       correct_predic += 1\n",
    "    else:\n",
    "       wrong_predic += 1\n",
    "    \n",
    "print(\"Number of correct prediction\", correct_predic)\n",
    "print(\"Number of wrong prediction\", wrong_predic)"
   ]
  },
  {
   "cell_type": "code",
   "execution_count": 31,
   "metadata": {
    "collapsed": false
   },
   "outputs": [
    {
     "name": "stdout",
     "output_type": "stream",
     "text": [
      "Correct rate is:  0.9589581689029203\n"
     ]
    }
   ],
   "source": [
    "print(\"Correct rate is: \", correct_predic/(wrong_predic + correct_predic))"
   ]
  },
  {
   "cell_type": "code",
   "execution_count": 24,
   "metadata": {
    "collapsed": false
   },
   "outputs": [],
   "source": [
    "predict_labels_test = clf.predict(test_data)"
   ]
  },
  {
   "cell_type": "code",
   "execution_count": 25,
   "metadata": {
    "collapsed": false
   },
   "outputs": [
    {
     "name": "stdout",
     "output_type": "stream",
     "text": [
      "predicted number of female 275\n",
      "predicted number of male 359\n",
      "total number of train data: 634\n"
     ]
    }
   ],
   "source": [
    "count_0 = 0\n",
    "count_1 = 0\n",
    "for i in range(0,634):\n",
    "    if predict_labels_test[i] == 0:\n",
    "       count_0 += 1\n",
    "    else:\n",
    "       count_1 += 1\n",
    "print(\"predicted number of female\", count_0)\n",
    "print(\"predicted number of male\", count_1)\n",
    "print(\"total number of train data:\",count_0 + count_1)"
   ]
  },
  {
   "cell_type": "code",
   "execution_count": 26,
   "metadata": {
    "collapsed": false
   },
   "outputs": [
    {
     "name": "stdout",
     "output_type": "stream",
     "text": [
      "Number of correct prediction 601\n",
      "Number of wrong prediction 33\n"
     ]
    }
   ],
   "source": [
    "correct_predic = 0\n",
    "wrong_predic = 0\n",
    "for i in range(0,634):\n",
    "    if test_labels[i] == predict_labels_test[i]:\n",
    "       correct_predic += 1\n",
    "    else:\n",
    "       wrong_predic += 1\n",
    "    \n",
    "print(\"Number of correct prediction\", correct_predic)\n",
    "print(\"Number of wrong prediction\", wrong_predic)"
   ]
  },
  {
   "cell_type": "code",
   "execution_count": 27,
   "metadata": {
    "collapsed": false
   },
   "outputs": [
    {
     "name": "stdout",
     "output_type": "stream",
     "text": [
      "Correct rate is:  0.9479495268138801\n"
     ]
    }
   ],
   "source": [
    "print(\"Correct rate is: \", correct_predic/(wrong_predic + correct_predic))"
   ]
  }
 ],
 "metadata": {
  "anaconda-cloud": {},
  "kernelspec": {
   "display_name": "Python [Root]",
   "language": "python",
   "name": "Python [Root]"
  },
  "language_info": {
   "codemirror_mode": {
    "name": "ipython",
    "version": 3
   },
   "file_extension": ".py",
   "mimetype": "text/x-python",
   "name": "python",
   "nbconvert_exporter": "python",
   "pygments_lexer": "ipython3",
   "version": "3.5.2"
  }
 },
 "nbformat": 4,
 "nbformat_minor": 0
}
